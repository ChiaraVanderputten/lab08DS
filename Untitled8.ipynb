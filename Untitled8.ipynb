{
  "nbformat": 4,
  "nbformat_minor": 0,
  "metadata": {
    "colab": {
      "name": "Untitled8.ipynb",
      "provenance": [],
      "collapsed_sections": [],
      "authorship_tag": "ABX9TyPHsX3yAVHtc1aeKHT4/090",
      "include_colab_link": true
    },
    "kernelspec": {
      "name": "python3",
      "display_name": "Python 3"
    },
    "language_info": {
      "name": "python"
    }
  },
  "cells": [
    {
      "cell_type": "markdown",
      "metadata": {
        "id": "view-in-github",
        "colab_type": "text"
      },
      "source": [
        "<a href=\"https://colab.research.google.com/github/ChiaraVanderputten/lab08DS/blob/main/Untitled8.ipynb\" target=\"_parent\"><img src=\"https://colab.research.google.com/assets/colab-badge.svg\" alt=\"Open In Colab\"/></a>"
      ]
    },
    {
      "cell_type": "markdown",
      "metadata": {
        "id": "DYmJ5CgicMWo"
      },
      "source": [
        "#2.1"
      ]
    },
    {
      "cell_type": "code",
      "metadata": {
        "id": "7mRkoNmWcOjn"
      },
      "source": [
        "import numpy as np\n",
        "import matplotlib.pyplot as plt\n",
        "from sklearn.model_selection import train_test_split\n",
        "\n",
        "def f1(x):\n",
        " return x*np.sin(x)+(2*x)\n",
        "\n",
        "def f2(x):\n",
        " return 10*np.sin(x)+(x**2)\n",
        "\n",
        "def f3(x):\n",
        " return np.sign(x)*((x**2)+300) + 20*np.sin(x)\n",
        "\n",
        "for f in [f1, f2, f3]:\n",
        " tr = 20\n",
        " n_samples = 100\n",
        " X = np.linspace(-tr, tr, n_samples)\n",
        " y = f(X)\n",
        " X_train, X_test, y_train, y_test = train_test_split( X, y, train_size=0.7, random_state=42, shuffle=True)\n",
        " y_test = y_test[X_test.argsort()]\n",
        " X_test.sort()\n",
        " plt.plot(X, y, marker = \"o\", color = 'red')\n",
        " plt.xlabel(\"X\") \n",
        " plt.ylabel(\"y\")\n",
        " plt.title(f)\n",
        " plt.show()\n",
        "\n",
        "from sklearn.linear_model import LinearRegression\n",
        "from sklearn.linear_model import Ridge\n",
        "from sklearn.svm import SVR\n",
        "from sklearn.neural_network import MLPRegressor\n",
        "from sklearn.ensemble import RandomForestRegressor\n",
        "from sklearn.metrics import r2_score, mean_absolute_error, mean_squared_error\n",
        "from sklearn.pipeline import make_pipeline\n",
        "from sklearn.preprocessing import FunctionTransformer, PolynomialFeatures\n",
        "\n",
        "def creoValori(f,X,y):\n",
        " tr = 20\n",
        " n_samples = 100\n",
        " X = np.linspace(-tr, tr, n_samples)\n",
        " y = f(X)\n",
        " X_train, X_test, y_train, y_test = train_test_split( X, y, train_size=0.7, random_state=42, shuffle=True)\n",
        " y_test = y_test[X_test.argsort()]\n",
        " X_test.sort()\n",
        " return  X_train, X_test, y_train, y_test\n",
        " \n",
        "\n",
        "def valutazioneModello(f,X,y, model):\n",
        "   X_train, X_test, y_train, y_test = creoValori(f,X,y)\n",
        "   fig, ax = plt.subplots()\n",
        "   ax.plot(X, y, color='cornflowerblue', linewidth=.5*2, label=\"ground truth\")\n",
        "   ax.scatter(X_train, y_train, color='navy', s=30, marker='o', label=\"training points\")\n",
        "\n",
        "   if(model==LinearRegression()):\n",
        "    make_pipeline(PolynomialFeatures(4), model).fit(X_train.reshape(-1, 1),y_train)\n",
        "   else:  \n",
        "    model.fit(X_train.reshape(-1, 1),y_train)\n",
        "    y_test_pred = model.predict(X_test.reshape(-1, 1))\n",
        "    r2 = r2_score(y_test, y_test_pred)\n",
        "    mae = mean_absolute_error(y_test, y_test_pred)\n",
        "    mse= mean_squared_error(y_test, y_test_pred)\n",
        "\n",
        "   ax.plot(X_test, y_test_pred, linewidth=2, label=model, color='r')\n",
        "   fig.suptitle(f\"{f} approximated by {model}\")\n",
        "   fig.legend()\n",
        "\n",
        "   return r2,mae,mse\n",
        "\n",
        "modelli =[LinearRegression(),Ridge( random_state=42), SVR(), RandomForestRegressor(), MLPRegressor(random_state=42) ]\n",
        "\n",
        "\n",
        "for model in modelli:\n",
        "    r,m1,m2 = valutazioneModello(f1,X,y, model)\n",
        "    print(f, model, \"R squared : \", r, \"mean absolute error : \", m1, \"mean squared error : \", m2)\n",
        "    \n"
      ],
      "execution_count": null,
      "outputs": []
    },
    {
      "cell_type": "markdown",
      "source": [
        "#2.2"
      ],
      "metadata": {
        "id": "dcP3zlr_hGY0"
      }
    },
    {
      "cell_type": "code",
      "source": [
        "from sklearn.datasets import make_regression\n",
        "from prettytable import PrettyTable\n",
        "\n",
        "X, y = make_regression(n_samples=2000, random_state=42)\n",
        "\n",
        "t = PrettyTable()\n",
        "t.field_names = ['model', 'MSE', 'R2']\n",
        "\n",
        "modelli =[LinearRegression(),Ridge( random_state=42), SVR(), RandomForestRegressor(), MLPRegressor(random_state=42) ]\n",
        "nomi=['regressione lineare', 'ridge', 'SVR', 'Random Forest', 'MLPRegressor']\n",
        "\n",
        "\n",
        "for model, name in zip(modelli, nomi):\n",
        "  X_train, X_test, y_train, y_test = train_test_split(X, y,train_size=.7,random_state=42,shuffle=True)\n",
        "  model.fit(X_train, y_train)\n",
        "  y_pred = model.predict(X_test)\n",
        "  mse = mean_squared_error(y_test, y_pred)\n",
        "  r2 = r2_score(y_test, y_pred)\n",
        "  t.add_row([name, mse, r2])\n",
        "print(t)\n",
        "                                                        #noise decreases the performance for every model\n",
        "X2, y2 = make_regression(n_samples=2000, random_state=42, noise=15, n_informative=70)\n",
        "                                                                            #increase number of important features not bring more informmation but decreases the performance for more complex model\n",
        "t2 = PrettyTable()\n",
        "\n",
        "for model, name in zip(modelli, nomi):\n",
        "  X2_train, X2_test, y2_train, y2_test = train_test_split(X2, y2,train_size=.7,random_state=42,shuffle=True)\n",
        "  model.fit(X2_train, y2_train)\n",
        "  y2_pred = model.predict(X2_test)\n",
        "  mse = mean_squared_error(y2_test, y2_pred)\n",
        "  r2 = r2_score(y2_test, y2_pred)\n",
        "  t2.add_row([name, mse, r2])\n",
        "print(t2)\n"
      ],
      "metadata": {
        "id": "46L95xhuhIrK"
      },
      "execution_count": null,
      "outputs": []
    },
    {
      "cell_type": "markdown",
      "source": [
        "#2.3"
      ],
      "metadata": {
        "id": "TL6BMnCweuvo"
      }
    },
    {
      "cell_type": "code",
      "source": [
        "import numpy as np\n",
        "import pandas as pd\n",
        "\n",
        "weather = pd.read_csv(\"SummaryofWeather.csv\")\n",
        "\n",
        "#weather.info()\n",
        "#print(weather.isna().sum())\n",
        "\n",
        "station = pd.read_csv(\"WeatherStationLocations.csv\")\n",
        "\n",
        "#station.info()\n",
        "#print(station.isna().sum())\n",
        "\n",
        "weather.groupby(\"STA\").size().sort_values(ascending=False).head(10)\n",
        "\n",
        "mask=weather.STA.isin(['22508'])\n",
        "weather_filt = weather.loc[mask]\n",
        "\n",
        "weather_filt['Date']= pd.to_datetime(weather_filt['Date'])\n",
        "\n",
        "#weather_filt.info()\n",
        "\n",
        "weather_filt=weather_filt.set_index('Date')\n",
        "df= weather_filt['MeanTemp']\n",
        "\n",
        "print(df.head(5))\n",
        "\n",
        "import matplotlib.pyplot as plt\n",
        "import datetime\n",
        "\n",
        "plt.plot(df.index,df.values)\n",
        "plt.show()\n",
        "\n",
        "W=3\n",
        "#df.size\n",
        "\n",
        "X=list()\n",
        "Y=list()\n",
        "\n",
        "for i in range(df.size - W):  \n",
        " X.append(df.iloc[i:i+W].values.T) #prendo i valori da i a i+W con i+W escluso e li metto in una riga con T  \n",
        " Y.append(df.iloc[i+W]) #mentre in y inserisco il valore i+W (che è l'ultimo della riga)\n",
        "\n",
        "X=np.asarray(X)\n",
        "Y=np.asarray(Y)\n",
        "X.shape, Y.shape\n",
        "\n",
        "print(X[:5,:]) #prime tre righe e tutte le colonne\n",
        "print(Y[:4])\n",
        "\n",
        "#Given a record associated with the day t, y[t] is the value taken by the series at the day t+W+1\n",
        "\n",
        "X=pd.DataFrame(X)\n",
        "Y=pd.DataFrame(Y)\n",
        "\n",
        "X_train, Y_train = X.loc[\"1940\":\"1944\"], Y.loc[\"1940\":\"1944\"] \n",
        "\n",
        "print(X_train.head(7))\n",
        "print(Y_train.head(7))"
      ],
      "metadata": {
        "colab": {
          "base_uri": "https://localhost:8080/",
          "height": 841
        },
        "id": "EKjQTbnjexUY",
        "outputId": "48534c8a-62b5-4a49-a949-50d53f921f04"
      },
      "execution_count": 55,
      "outputs": [
        {
          "output_type": "stream",
          "name": "stdout",
          "text": [
            "Date\n",
            "1940-01-01    20.000000\n",
            "1940-01-02    19.444444\n",
            "1940-01-03    20.000000\n",
            "1940-01-04    21.111111\n",
            "1940-01-05    18.333333\n",
            "Name: MeanTemp, dtype: float64\n"
          ]
        },
        {
          "output_type": "stream",
          "name": "stderr",
          "text": [
            "/usr/local/lib/python3.7/dist-packages/IPython/core/interactiveshell.py:2718: DtypeWarning: Columns (7,8,18,25) have mixed types.Specify dtype option on import or set low_memory=False.\n",
            "  interactivity=interactivity, compiler=compiler, result=result)\n",
            "/usr/local/lib/python3.7/dist-packages/ipykernel_launcher.py:19: SettingWithCopyWarning: \n",
            "A value is trying to be set on a copy of a slice from a DataFrame.\n",
            "Try using .loc[row_indexer,col_indexer] = value instead\n",
            "\n",
            "See the caveats in the documentation: https://pandas.pydata.org/pandas-docs/stable/user_guide/indexing.html#returning-a-view-versus-a-copy\n"
          ]
        },
        {
          "output_type": "display_data",
          "data": {
            "image/png": "[encoded data removed]",
            "text/plain": [
              "<Figure size 432x288 with 1 Axes>"
            ]
          },
          "metadata": {
            "needs_background": "light"
          }
        },
        {
          "output_type": "stream",
          "name": "stdout",
          "text": [
            "[[20.         19.44444444 20.        ]\n",
            " [19.44444444 20.         21.11111111]\n",
            " [20.         21.11111111 18.33333333]\n",
            " [21.11111111 18.33333333 20.        ]\n",
            " [18.33333333 20.         20.55555556]]\n",
            "[21.11111111 18.33333333 20.         20.55555556]\n",
            "              0          1          2\n",
            "1940  22.222222  22.777778  21.111111\n",
            "1941  22.777778  21.111111  22.222222\n",
            "1942  21.111111  22.222222  22.777778\n",
            "1943  22.222222  22.777778  21.666667\n",
            "1944  22.777778  21.666667  21.111111\n",
            "              0\n",
            "1940  22.222222\n",
            "1941  22.777778\n",
            "1942  21.666667\n",
            "1943  21.111111\n",
            "1944  22.222222\n"
          ]
        }
      ]
    }
  ]
}